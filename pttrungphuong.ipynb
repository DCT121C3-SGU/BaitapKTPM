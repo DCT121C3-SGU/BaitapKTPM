{
 "cells": [
  {
   "cell_type": "code",
   "execution_count": 1,
   "metadata": {},
   "outputs": [
    {
     "name": "stdout",
     "output_type": "stream",
     "text": [
      " Volume in drive C is Windows\n",
      " Volume Serial Number is EE48-27BA\n",
      "\n",
      " Directory of c:\\MiMi\\HK1 2024-2025\\KTPM\\BT1\n",
      "\n",
      "10/09/2024  03:02 PM    <DIR>          .\n",
      "10/09/2024  02:10 PM    <DIR>          ..\n",
      "10/09/2024  02:49 PM                 9 ptbac2.in1\n",
      "10/09/2024  02:49 PM                 9 ptbac2.in2\n",
      "10/09/2024  02:50 PM             4,486 ptbac2.ipynb\n",
      "10/09/2024  02:48 PM               951 ptbac2.py\n",
      "10/09/2024  03:03 PM               373 pttrungphuong.ipynb\n",
      "10/09/2024  03:02 PM               964 pttrungphuong.py\n",
      "               6 File(s)          6,792 bytes\n",
      "               2 Dir(s)  46,641,561,600 bytes free\n"
     ]
    }
   ],
   "source": [
    "!dir"
   ]
  },
  {
   "cell_type": "code",
   "execution_count": 1,
   "metadata": {},
   "outputs": [
    {
     "name": "stdout",
     "output_type": "stream",
     "text": [
      "Overwriting pttrungphuong.py\n"
     ]
    }
   ],
   "source": [
    "%%writefile pttrungphuong.py\n",
    "import math\n",
    "\n",
    "a = float(input())\n",
    "b = float(input())\n",
    "c = float(input())\n",
    "\n",
    "print(\"Phương trình trùng phương có dạng ax^4 + bx^2 + c = 0:\")\n",
    "if b >= 0:\n",
    "    if c >= 0:\n",
    "        print(f\"\\t\\t\\t{a}x^4 + {b}x^2 + {c} = 0\")\n",
    "    else:\n",
    "        print(f\"\\t\\t\\t{a}x^4 + {b}x^2 + ({c}) = 0\")\n",
    "else: \n",
    "    if c >= 0:\n",
    "        print(f\"\\t\\t\\t{a}x^4 + ({b})x^2 + {c} = 0\")\n",
    "    else:\n",
    "        print(f\"\\t\\t\\t{a}x^4 + ({b})x^2 + ({c}) = 0\")\n",
    "\n",
    "if a == 0:\n",
    "        if b == 0:\n",
    "            if c == 0:\n",
    "                print(\"=>Phương trình có vô số nghiệm\")\n",
    "                sono = -1\n",
    "            else:\n",
    "                print(\"=>Phương trình vô nghiệm\")\n",
    "                sono = 0\n",
    "        else:\n",
    "            if -c / b < 0:\n",
    "                print(\"=>Phương trình vô nghiệm\")\n",
    "                sono = 0\n",
    "            else:\n",
    "                if -c / b == 0:\n",
    "                    print(f\"=> Phương trình có nghiệm kép: x = 0\")\n",
    "                    sono = 1\n",
    "                else:\n",
    "                    x1 = -math.sqrt(-c/b)\n",
    "                    x2 = math.sqrt(-c/b)\n",
    "                    print(\"=> Phương trình có 2 nghiệm phân biệt:\")\n",
    "                    print(f\"\\tx1 = {x1}\")\n",
    "                    print(f\"\\tx2 = {x2}\")\n",
    "                    sono = 2\n",
    "else:\n",
    "    delta = b ** 2 - (4 * a * c)\n",
    "    if delta < 0:\n",
    "        print(\"=>Phương trình vô nghiệm\")\n",
    "        sono = 0\n",
    "    else:\n",
    "        if delta == 0:\n",
    "            t = -b / (2 * a)\n",
    "            if t < 0:\n",
    "                print(\"=>Phương trình vô nghiệm\")\n",
    "                sono = 0\n",
    "            else:\n",
    "                x1 = -math.sqrt(t)\n",
    "                x2 = math.sqrt(t)\n",
    "                print(\"=> Phương trình có 2 nghiệm phân biệt:\")\n",
    "                print(f\"\\tx1 = {x1}\")\n",
    "                print(f\"\\tx2 = {x2}\")\n",
    "                sono = 2\n",
    "        else: \n",
    "            t1 = (-b - math.sqrt(delta)) / (2 * a)\n",
    "            t2 = (-b + math.sqrt(delta)) / (2 * a)\n",
    "            if t2 < 0 and t1 < 0:\n",
    "                print(\"=>Phương trình vô nghiệm\")\n",
    "                sono = 0\n",
    "            if t1 < 0 and t2 > 0:\n",
    "                x1 = -math.sqrt(t2)\n",
    "                x2 = math.sqrt(t2)\n",
    "                print(\"=> Phương trình có 2 nghiệm phân biệt:\")\n",
    "                print(f\"\\tx1 = {x1}\")\n",
    "                print(f\"\\tx2 = {x2}\")\n",
    "                sono = 2\n",
    "            if t1 > 0 and t2 < 0:\n",
    "                x1 = -math.sqrt(t1)\n",
    "                x2 = math.sqrt(t1)\n",
    "                print(\"=> Phương trình có 2 nghiệm phân biệt:\")\n",
    "                print(f\"\\tx1 = {x1}\")\n",
    "                print(f\"\\tx2 = {x2}\")\n",
    "                sono = 2\n",
    "            if t1 > 0 and t2 > 0:\n",
    "                x1 = -math.sqrt(t2)\n",
    "                x2 = math.sqrt(t2)\n",
    "                x3 = -math.sqrt(t1)\n",
    "                x4 = math.sqrt(t1)\n",
    "                print(\"=> Phương trình có 4 nghiệm phân biệt:\")\n",
    "                print(f\"\\tx1 = {x1}\")\n",
    "                print(f\"\\tx2 = {x2}\")\n",
    "                print(f\"\\tx3 = {x3}\")\n",
    "                print(f\"\\tx4 = {x4}\")\n",
    "                sono = 4\n",
    "            if t1 == 0 or t2 == 0:\n",
    "                print(\"=> Phương trình có 1 nghiệm:\")\n",
    "                print(f\"\\tx1 = 0\")\n",
    "                sono = 1\n",
    "            if t1 == 0 and t2 < 0:\n",
    "                print(\"=> Phương trình có 1 nghiệm:\")\n",
    "                print(f\"\\tx1 = 0\")\n",
    "                sono = 1 \n",
    "            if t1 < 0 and t2 == 0:\n",
    "                print(\"=> Phương trình có 1 nghiệm:\")\n",
    "                print(f\"\\tx1 = 0\")\n",
    "                sono = 1\n",
    "            if t1 == 0 and t2 > 0:\n",
    "                x1 = -math.sqrt(t2)\n",
    "                x2 = math.sqrt(t2)\n",
    "                print(\"=> Phương trình có 3 nghiệm phân biệt:\")\n",
    "                print(f\"\\tx1 = {x1}\")\n",
    "                print(f\"\\tx2 = {x2}\")\n",
    "                print(f\"\\tx3 = 0\")\n",
    "                sono = 3\n",
    "            if t1 > 0 and t2 == 0:\n",
    "                x1 = -math.sqrt(t1)\n",
    "                x2 = math.sqrt(t1)\n",
    "                print(\"=> Phương trình có 3 nghiệm phân biệt:\")\n",
    "                print(f\"\\tx1 = {x1}\")\n",
    "                print(f\"\\tx2 = {x2}\")\n",
    "                print(f\"\\tx3 = 0\")\n",
    "                sono = 3"
   ]
  },
  {
   "cell_type": "code",
   "execution_count": 2,
   "metadata": {},
   "outputs": [
    {
     "name": "stdout",
     "output_type": "stream",
     "text": [
      "Phương trình trùng phương có dạng ax^4 + bx^2 + c = 0:\n",
      "\t\t\t1.0x^4 + (-3.0)x^2 + 2.0 = 0\n",
      "=> Phương trình có 4 nghiệm phân biệt:\n",
      "\tx1 = -1.4142135623730951\n",
      "\tx2 = 1.4142135623730951\n",
      "\tx3 = -1.0\n",
      "\tx4 = 1.0\n"
     ]
    }
   ],
   "source": [
    "!python pttrungphuong.py <pttrungphuong.in1"
   ]
  },
  {
   "cell_type": "code",
   "execution_count": 10,
   "metadata": {},
   "outputs": [
    {
     "name": "stdout",
     "output_type": "stream",
     "text": [
      "Overwriting pttrungphuong.in1\n"
     ]
    }
   ],
   "source": [
    "%%writefile pttrungphuong.in1\n",
    "1\n",
    "-3\n",
    "2"
   ]
  },
  {
   "cell_type": "code",
   "execution_count": 4,
   "metadata": {},
   "outputs": [
    {
     "name": "stdout",
     "output_type": "stream",
     "text": [
      "Overwriting pttrungphuong.in2\n"
     ]
    }
   ],
   "source": [
    "%%writefile pttrungphuong.in2\n",
    "1\n",
    "0\n",
    "4"
   ]
  },
  {
   "cell_type": "code",
   "execution_count": 5,
   "metadata": {},
   "outputs": [
    {
     "name": "stdout",
     "output_type": "stream",
     "text": [
      "Overwriting pttrungphuong.in3\n"
     ]
    }
   ],
   "source": [
    "%%writefile pttrungphuong.in3\n",
    "2\n",
    "2\n",
    "1"
   ]
  },
  {
   "cell_type": "code",
   "execution_count": 11,
   "metadata": {},
   "outputs": [
    {
     "name": "stdout",
     "output_type": "stream",
     "text": [
      "Test 1\n",
      "Phương trình trùng phương có dạng ax^4 + bx^2 + c = 0:\n",
      "\t\t\t1.0x^4 + (-3.0)x^2 + 2.0 = 0\n",
      "=> Phương trình có 4 nghiệm phân biệt:\n",
      "\tx1 = -1.4142135623730951\n",
      "\tx2 = 1.4142135623730951\n",
      "\tx3 = -1.0\n",
      "\tx4 = 1.0\n",
      "Test 2\n",
      "Phương trình trùng phương có dạng ax^4 + bx^2 + c = 0:\n",
      "\t\t\t1.0x^4 + 0.0x^2 + 4.0 = 0\n",
      "=>Phương trình vô nghiệm\n",
      "Test 3\n",
      "Phương trình trùng phương có dạng ax^4 + bx^2 + c = 0:\n",
      "\t\t\t2.0x^4 + 2.0x^2 + 1.0 = 0\n",
      "=>Phương trình vô nghiệm\n"
     ]
    }
   ],
   "source": [
    "!echo Test 1\n",
    "!python pttrungphuong.py <pttrungphuong.in1\n",
    "!echo Test 2\n",
    "!python pttrungphuong.py <pttrungphuong.in2\n",
    "!echo Test 3\n",
    "!python pttrungphuong.py <pttrungphuong.in3"
   ]
  },
  {
   "cell_type": "code",
   "execution_count": 7,
   "metadata": {},
   "outputs": [
    {
     "name": "stdout",
     "output_type": "stream",
     "text": [
      "Writing pttrungphuong.in4\n"
     ]
    }
   ],
   "source": [
    "%%writefile pttrungphuong.in4\n",
    "0\n",
    "1\n",
    "-1"
   ]
  },
  {
   "cell_type": "code",
   "execution_count": 9,
   "metadata": {},
   "outputs": [
    {
     "name": "stdout",
     "output_type": "stream",
     "text": [
      "Writing pttrungphuong.in5\n"
     ]
    }
   ],
   "source": [
    "%%writefile pttrungphuong.in5\n",
    "1\n",
    "1\n",
    "0"
   ]
  },
  {
   "cell_type": "code",
   "execution_count": 12,
   "metadata": {},
   "outputs": [
    {
     "name": "stdout",
     "output_type": "stream",
     "text": [
      "Writing pttrungphuong.in6\n"
     ]
    }
   ],
   "source": [
    "%%writefile pttrungphuong.in6\n",
    "0\n",
    "0\n",
    "0"
   ]
  },
  {
   "cell_type": "code",
   "execution_count": 13,
   "metadata": {},
   "outputs": [
    {
     "name": "stdout",
     "output_type": "stream",
     "text": [
      "Test 4\n",
      "Phương trình trùng phương có dạng ax^4 + bx^2 + c = 0:\n",
      "\t\t\t0.0x^4 + 1.0x^2 + (-1.0) = 0\n",
      "=> Phương trình có 2 nghiệm phân biệt:\n",
      "\tx1 = -1.0\n",
      "\tx2 = 1.0\n",
      "Test 5\n",
      "Phương trình trùng phương có dạng ax^4 + bx^2 + c = 0:\n",
      "\t\t\t1.0x^4 + 1.0x^2 + 0.0 = 0\n",
      "=> Phương trình có 1 nghiệm:\n",
      "\tx1 = 0\n",
      "=> Phương trình có 1 nghiệm:\n",
      "\tx1 = 0\n",
      "Test 6\n",
      "Phương trình trùng phương có dạng ax^4 + bx^2 + c = 0:\n",
      "\t\t\t0.0x^4 + 0.0x^2 + 0.0 = 0\n",
      "=>Phương trình có vô số nghiệm\n"
     ]
    }
   ],
   "source": [
    "!echo Test 4\n",
    "!python pttrungphuong.py <pttrungphuong.in4\n",
    "!echo Test 5\n",
    "!python pttrungphuong.py <pttrungphuong.in5\n",
    "!echo Test 6\n",
    "!python pttrungphuong.py <pttrungphuong.in6"
   ]
  }
 ],
 "metadata": {
  "kernelspec": {
   "display_name": "Python 3",
   "language": "python",
   "name": "python3"
  },
  "language_info": {
   "codemirror_mode": {
    "name": "ipython",
    "version": 3
   },
   "file_extension": ".py",
   "mimetype": "text/x-python",
   "name": "python",
   "nbconvert_exporter": "python",
   "pygments_lexer": "ipython3",
   "version": "3.11.5"
  }
 },
 "nbformat": 4,
 "nbformat_minor": 2
}
