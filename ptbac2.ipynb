{
 "cells": [
  {
   "cell_type": "code",
   "execution_count": 10,
   "metadata": {},
   "outputs": [
    {
     "name": "stdout",
     "output_type": "stream",
     "text": [
      " Volume in drive C is Windows\n",
      " Volume Serial Number is EE48-27BA\n",
      "\n",
      " Directory of c:\\MiMi\\HK1 2024-2025\\KTPM\\BT1\n",
      "\n",
      "17/09/2024  01:58 PM    <DIR>          .\n",
      "10/09/2024  02:10 PM    <DIR>          ..\n",
      "17/09/2024  01:57 PM                 9 ptbac2.in1\n",
      "17/09/2024  01:57 PM                10 ptbac2.in2\n",
      "17/09/2024  01:57 PM                 9 ptbac2.in3\n",
      "17/09/2024  01:58 PM                10 ptbac2.in4\n",
      "17/09/2024  01:59 PM             6,579 ptbac2.ipynb\n",
      "17/09/2024  01:59 PM             1,203 ptbac2.py\n",
      "10/09/2024  03:04 PM                 9 pttrungphuong.in1\n",
      "10/09/2024  03:05 PM                 9 pttrungphuong.in2\n",
      "10/09/2024  03:05 PM             4,634 pttrungphuong.ipynb\n",
      "10/09/2024  03:03 PM               962 pttrungphuong.py\n",
      "              10 File(s)         13,434 bytes\n",
      "               2 Dir(s)  51,476,992,000 bytes free\n"
     ]
    }
   ],
   "source": [
    "!dir"
   ]
  },
  {
   "cell_type": "markdown",
   "metadata": {},
   "source": [
    "Phương trình bậc 2"
   ]
  },
  {
   "cell_type": "code",
   "execution_count": 38,
   "metadata": {},
   "outputs": [
    {
     "name": "stdout",
     "output_type": "stream",
     "text": [
      "Overwriting ptbac2.py\n"
     ]
    }
   ],
   "source": [
    "%%writefile ptbac2.py\n",
    "import math\n",
    "\n",
    "a = float(input())\n",
    "b = float(input())\n",
    "c = float(input())\n",
    "\n",
    "print(\"Phương trình bậc 2 có dạng ax^2 + bx + c = 0:\")\n",
    "if b > 0:\n",
    "    if c >= 0:\n",
    "        print(f\"\\t\\t\\t{a}x^2 + {b}x + {c} = 0\")\n",
    "    else:\n",
    "        print(f\"\\t\\t\\t{a}x^2 + {b}x + ({c}) = 0\")\n",
    "else: \n",
    "    if c >= 0:\n",
    "        print(f\"\\t\\t\\t{a}x^2 + ({b})x + {c} = 0\")\n",
    "    else:\n",
    "        print(f\"\\t\\t\\t{a}x^2 + ({b})x + ({c}) = 0\")\n",
    "\n",
    "delta = b ** 2 - (4 * a * c)\n",
    "if a == 0:\n",
    "    if b == 0:\n",
    "        if c == 0:\n",
    "            print(\"=>Phương trình có vô số nghiệm\")\n",
    "            sono = -1\n",
    "        else:\n",
    "            print(\"=>Phương trình vô nghiệm\")\n",
    "            sono = 0\n",
    "    else:\n",
    "        x = -c / b\n",
    "        print(f\"=> Phương trình có nghiệm kép: x = {x}\")\n",
    "        sono = 1\n",
    "else:\n",
    "    if delta > 0:\n",
    "        x1 = (-b + math.sqrt(delta)) / (2 * a)\n",
    "        x2 = (-b - math.sqrt(delta)) / (2 * a)\n",
    "        if x1 > x2:\n",
    "            a = x1\n",
    "            x1 = x2\n",
    "            x2 = a\n",
    "        print(\"=> Phương trình có 2 nghiệm phân biệt:\")\n",
    "        print(f\"\\tx1 = {x1}\")\n",
    "        print(f\"\\tx2 = {x2}\")\n",
    "        sono = 2\n",
    "    elif delta == 0:\n",
    "        x = -b / (2 * a)\n",
    "        print(\"=>Phương trình có nghiệm kép:\")\n",
    "        print(f\"\\tx1 = x2 = {x}\")\n",
    "        sono = 1\n",
    "    else:\n",
    "        print(\"=>Phương trình vô nghiệm\")\n",
    "        sono = 0\n"
   ]
  },
  {
   "cell_type": "code",
   "execution_count": 39,
   "metadata": {},
   "outputs": [
    {
     "name": "stdout",
     "output_type": "stream",
     "text": [
      "Phương trình bậc 2 có dạng ax^2 + bx + c = 0:\n",
      "\t\t\t0.0x^2 + (0.0)x + 0.0 = 0\n",
      "=>Phương trình có vô số nghiệm\n"
     ]
    }
   ],
   "source": [
    "!python ptbac2.py <ptbac2.in1"
   ]
  },
  {
   "cell_type": "code",
   "execution_count": 40,
   "metadata": {},
   "outputs": [
    {
     "name": "stdout",
     "output_type": "stream",
     "text": [
      "Overwriting ptbac2.in1\n"
     ]
    }
   ],
   "source": [
    "%%writefile ptbac2.in1\n",
    "0\n",
    "0\n",
    "0"
   ]
  },
  {
   "cell_type": "code",
   "execution_count": 41,
   "metadata": {},
   "outputs": [
    {
     "name": "stdout",
     "output_type": "stream",
     "text": [
      "Overwriting ptbac2.in2\n"
     ]
    }
   ],
   "source": [
    "%%writefile ptbac2.in2\n",
    "0\n",
    "0\n",
    "4"
   ]
  },
  {
   "cell_type": "code",
   "execution_count": 42,
   "metadata": {},
   "outputs": [
    {
     "name": "stdout",
     "output_type": "stream",
     "text": [
      "Overwriting ptbac2.in3\n"
     ]
    }
   ],
   "source": [
    "%%writefile ptbac2.in3\n",
    "0\n",
    "2\n",
    "3"
   ]
  },
  {
   "cell_type": "code",
   "execution_count": 43,
   "metadata": {},
   "outputs": [
    {
     "name": "stdout",
     "output_type": "stream",
     "text": [
      "Overwriting ptbac2.in4\n"
     ]
    }
   ],
   "source": [
    "%%writefile ptbac2.in4\n",
    "2\n",
    "-5\n",
    "3"
   ]
  },
  {
   "cell_type": "code",
   "execution_count": 44,
   "metadata": {},
   "outputs": [
    {
     "name": "stdout",
     "output_type": "stream",
     "text": [
      "Test 1\n",
      "Phương trình bậc 2 có dạng ax^2 + bx + c = 0:\n",
      "\t\t\t0.0x^2 + (0.0)x + 0.0 = 0\n",
      "=>Phương trình có vô số nghiệm\n",
      "Test 2\n",
      "Phương trình bậc 2 có dạng ax^2 + bx + c = 0:\n",
      "\t\t\t0.0x^2 + (0.0)x + 4.0 = 0\n",
      "=>Phương trình vô nghiệm\n",
      "Test 3\n",
      "Phương trình bậc 2 có dạng ax^2 + bx + c = 0:\n",
      "\t\t\t0.0x^2 + 2.0x + 3.0 = 0\n",
      "=> Phương trình có nghiệm kép: x = -1.5\n",
      "Test 4\n",
      "Phương trình bậc 2 có dạng ax^2 + bx + c = 0:\n",
      "\t\t\t2.0x^2 + (-5.0)x + 3.0 = 0\n",
      "=> Phương trình có 2 nghiệm phân biệt:\n",
      "\tx1 = 1.0\n",
      "\tx2 = 1.5\n"
     ]
    }
   ],
   "source": [
    "!echo Test 1\n",
    "!python ptbac2.py <ptbac2.in1\n",
    "!echo Test 2\n",
    "!python ptbac2.py <ptbac2.in2\n",
    "!echo Test 3\n",
    "!python ptbac2.py <ptbac2.in3\n",
    "!echo Test 4\n",
    "!python ptbac2.py <ptbac2.in4"
   ]
  }
 ],
 "metadata": {
  "kernelspec": {
   "display_name": "Python 3",
   "language": "python",
   "name": "python3"
  },
  "language_info": {
   "codemirror_mode": {
    "name": "ipython",
    "version": 3
   },
   "file_extension": ".py",
   "mimetype": "text/x-python",
   "name": "python",
   "nbconvert_exporter": "python",
   "pygments_lexer": "ipython3",
   "version": "3.11.5"
  }
 },
 "nbformat": 4,
 "nbformat_minor": 2
}
